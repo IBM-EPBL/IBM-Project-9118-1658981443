{
 "cells": [
  {
   "cell_type": "code",
   "execution_count": 26,
   "id": "98840f14",
   "metadata": {},
   "outputs": [],
   "source": [
    "from flask import Flask, render_template, request\n",
    "import pickle\n",
    "import numpy as np\n",
    "import pandas as pd\n",
    "import os"
   ]
  },
  {
   "cell_type": "code",
   "execution_count": 27,
   "id": "db71e76c",
   "metadata": {},
   "outputs": [],
   "source": [
    "app=Flask(__name__)\n",
    "model=pickle.load(open(r'model.pkl','rb'))\n"
   ]
  },
  {
   "cell_type": "code",
   "execution_count": null,
   "id": "f309f263",
   "metadata": {},
   "outputs": [],
   "source": []
  },
  {
   "cell_type": "code",
   "execution_count": 28,
   "id": "466a50a8",
   "metadata": {},
   "outputs": [],
   "source": [
    "@app.route('/')\n",
    "def home():\n",
    "    return render_template('home.html')\n",
    "@app.route('/predict')\n",
    "def predict():\n",
    "    return render_template('predict.html')\n",
    "@app.route('/output',methods=['POST'])\n",
    "def output():\n",
    "    input_feature=[x for x in request.form.values() ]\n",
    "    input_feature=[np.array(input_feature)]\n",
    "    print(input_feature)\n",
    "    names=['Gender','Married','Dependents','Education','Self_Employed','ApplicantIncome','CoapplicantIncome','LoanAmount','Loan_Amount_Term','Credit_History','Property_Area']\n",
    "    data=pd.DataFrame(input_feature,columns=names)\n",
    "    print(data)\n",
    "    \n",
    "    prediction=model.predict(data)\n",
    "    prediction=int(prediction)\n",
    "    print(type(prediction))\n",
    "    \n",
    "    if(prediction==0):\n",
    "        return render_template('submit.html',result=\"Loan will Not be Approved\")\n",
    "        \n",
    "    else:\n",
    "        return render_template('submit.html',result=\"Loan will be Approved\")\n",
    "        "
   ]
  },
  {
   "cell_type": "code",
   "execution_count": 29,
   "id": "20876c2c",
   "metadata": {},
   "outputs": [
    {
     "name": "stdout",
     "output_type": "stream",
     "text": [
      " * Serving Flask app \"__main__\" (lazy loading)\n",
      " * Environment: production\n",
      "\u001b[31m   WARNING: This is a development server. Do not use it in a production deployment.\u001b[0m\n",
      "\u001b[2m   Use a production WSGI server instead.\u001b[0m\n",
      " * Debug mode: off\n"
     ]
    },
    {
     "name": "stderr",
     "output_type": "stream",
     "text": [
      " * Running on http://127.0.0.1:5000/ (Press CTRL+C to quit)\n",
      "127.0.0.1 - - [19/Nov/2022 16:09:15] \"GET / HTTP/1.1\" 200 -\n",
      "127.0.0.1 - - [19/Nov/2022 16:09:21] \"GET /predict HTTP/1.1\" 200 -\n",
      "C:\\Users\\kirut\\anaconda3\\lib\\site-packages\\sklearn\\base.py:443: UserWarning: X has feature names, but RandomForestClassifier was fitted without feature names\n",
      "  warnings.warn(\n",
      "127.0.0.1 - - [19/Nov/2022 16:09:26] \"POST /output HTTP/1.1\" 200 -\n"
     ]
    },
    {
     "name": "stdout",
     "output_type": "stream",
     "text": [
      "[array(['1', '1', '0', '0', '0', '4000', '1000', '120', '360', '0', '0'],\n",
      "      dtype='<U4')]\n",
      "  Gender Married Dependents Education Self_Employed ApplicantIncome  \\\n",
      "0      1       1          0         0             0            4000   \n",
      "\n",
      "  CoapplicantIncome LoanAmount Loan_Amount_Term Credit_History Property_Area  \n",
      "0              1000        120              360              0             0  \n",
      "<class 'int'>\n"
     ]
    }
   ],
   "source": [
    "if __name__=='__main__':\n",
    "    port=int(os.environ.get('PORT',5000))\n",
    "    app.run(debug=False)"
   ]
  },
  {
   "cell_type": "code",
   "execution_count": 30,
   "id": "c44ac6ee",
   "metadata": {},
   "outputs": [],
   "source": [
    "from flask import Flask, render_template, request, jsonify\n",
    "\n",
    "import requests\n",
    "import json\n",
    "import numpy as np\n",
    "import pandas as pd\n",
    "\n"
   ]
  },
  {
   "cell_type": "code",
   "execution_count": null,
   "id": "042c191a",
   "metadata": {},
   "outputs": [],
   "source": []
  },
  {
   "cell_type": "code",
   "execution_count": 31,
   "id": "1c11de51",
   "metadata": {},
   "outputs": [],
   "source": [
    "API_KEY = \"iFY0zXPpW9WAKkEngxaszWLAMJARuVJzMZgH53lU3o7o\"\n",
    "token_response = requests.post('https://iam.cloud.ibm.com/identity/token', data={\"apikey\":API_KEY, \"grant_type\": 'urn:ibm:params:oauth:grant-type:apikey'})\n",
    "mltoken = token_response.json()[\"access_token\"]\n",
    "\n",
    "header = {'Content-Type': 'application/json', 'Authorization': 'Bearer ' + mltoken}\n",
    "\n"
   ]
  },
  {
   "cell_type": "code",
   "execution_count": 32,
   "id": "63a3f251",
   "metadata": {},
   "outputs": [],
   "source": [
    "app=Flask(__name__)\n",
    "\n",
    "@app.route('/home')\n",
    "def home():\n",
    "    return render_template('home.html')\n",
    "@app.route('/predict')\n",
    "def predict():\n",
    "    return render_template('predict.html')\n",
    "@app.route('/output',methods=['POST'])\n",
    "def output():\n",
    "    input_feature=[x for x in request.form.values()]\n",
    "    input_feature=[np.array(input_feature)]\n",
    "    print(input_feature)\n",
    "    names=['Gender','Married','Dependents','Education','Self_Employed','ApplicantIncome','CoapplicantIncome','LoanAmount','Loan_Amount_Term','Credit_History','Property_Area']\n",
    "    data=pd.DataFrame(input_feature,columns=names)\n",
    "    print(data)\n",
    "    \n",
    "    response_scoring = requests.post('https://us-south.ml.cloud.ibm.com/ml/v4/deployments/e858e595-92ed-44da-ba4a-f33d452c403c/predictions?version=2022-11-19', json=data,headers={'Authorization': 'Bearer ' + mltoken})\n",
    "    \n",
    "    prediction=int(response_scoring.json())\n",
    "    if(prediction==0):\n",
    "        return render_template('submit.html',result=\"Loan will Not be Approved\")\n",
    "        \n",
    "    else:\n",
    "        return render_template('submit.html',result=\"Loan will be Approved\")"
   ]
  },
  {
   "cell_type": "code",
   "execution_count": null,
   "id": "c859de29",
   "metadata": {},
   "outputs": [
    {
     "name": "stdout",
     "output_type": "stream",
     "text": [
      " * Serving Flask app \"__main__\" (lazy loading)\n",
      " * Environment: production\n",
      "\u001b[31m   WARNING: This is a development server. Do not use it in a production deployment.\u001b[0m\n",
      "\u001b[2m   Use a production WSGI server instead.\u001b[0m\n",
      " * Debug mode: off\n"
     ]
    },
    {
     "name": "stderr",
     "output_type": "stream",
     "text": [
      " * Running on http://127.0.0.1:5000/ (Press CTRL+C to quit)\n",
      "127.0.0.1 - - [19/Nov/2022 16:23:03] \"GET / HTTP/1.1\" 404 -\n"
     ]
    }
   ],
   "source": [
    "if __name__=='__main__':\n",
    "    app.run(debug=False)"
   ]
  },
  {
   "cell_type": "code",
   "execution_count": null,
   "id": "e0ecef43",
   "metadata": {},
   "outputs": [],
   "source": []
  }
 ],
 "metadata": {
  "kernelspec": {
   "display_name": "Python 3 (ipykernel)",
   "language": "python",
   "name": "python3"
  },
  "language_info": {
   "codemirror_mode": {
    "name": "ipython",
    "version": 3
   },
   "file_extension": ".py",
   "mimetype": "text/x-python",
   "name": "python",
   "nbconvert_exporter": "python",
   "pygments_lexer": "ipython3",
   "version": "3.9.7"
  }
 },
 "nbformat": 4,
 "nbformat_minor": 5
}
